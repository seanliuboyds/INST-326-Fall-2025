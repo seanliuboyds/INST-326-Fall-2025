{
 "cells": [
  {
   "cell_type": "markdown",
   "id": "e4253886",
   "metadata": {},
   "source": [
    "# With Statments // Context Managers\n",
    "\n",
    "### File Objects can be used as Context Managers\n",
    "- They will close themselves when they are done being used\n",
    "\n",
    "### With statements let you use Context Managers\n",
    "\n",
    "\n",
    "```\n",
    "with open(\"file.txt\", \"r\", encoding = \"utf-8\") as f:\n",
    "    for x in f:\n",
    "        do something\n",
    "```\n"
   ]
  },
  {
   "cell_type": "code",
   "execution_count": null,
   "id": "89b713c4",
   "metadata": {},
   "outputs": [],
   "source": [
    "with open(\"file.txt\", \"r\", encoding=\"utf-8\") as f:\n",
    "    for x in f:\n",
    "        print(x)\n",
    "\n",
    "with open(\"file2.txt\", \"r\", encoding=\"utf-8\") as f:\n",
    "    for x in f:\n",
    "        if len(x) > 5:\n",
    "            print(x)\n",
    "\n"
   ]
  },
  {
   "cell_type": "markdown",
   "id": "614130b4",
   "metadata": {},
   "source": [
    "# Files\n",
    "\n",
    "Files are either Binary or Text, usually stored as UTF-8 Encoding (Unicode). They are usually organized like trees with multiple branches or folders. The root is the beginning of the file system, on Mac, this is a forward slash \"/\"\n",
    "\n",
    "Absolute paths of files start from the root and path completely to the file. Relative paths start from the current working directory and path to the file, the path is different depending on the current directory.\n",
    "\n",
    "#### File Objects:\n",
    "- Required for file operations in Python\n",
    "- Uses the open() function\n",
    "- Permissions can be reading or writing to file\n",
    "-   Writing to files use w and reading uses r\n",
    "        - You can write to files with either print or write\n",
    "        - You can read to files with either read, readline, or iteration"
   ]
  },
  {
   "cell_type": "code",
   "execution_count": null,
   "id": "b845f8ed",
   "metadata": {},
   "outputs": [],
   "source": [
    "f = open(\"file.txt\", \"w\", encoding = \"utf-8\")\n",
    "print(\"\\n\\nWhat\\n\\nAbout\\n\\nVolleyball?\", file=f)\n",
    "\n",
    "f.write(\"How\\n\\nAbout\\n\\nFootball?\")\n",
    "f.close()\n",
    "\n",
    "g = open(\"file.txt\", \"r\", encoding = \"utf-8\")\n",
    "k = open(\"file2.txt\", \"r\", encoding = \"utf-8\")\n",
    "\n",
    "print(k.readline())\n",
    "\n",
    "print(g.read())\n",
    "\n",
    "\n",
    "\n",
    "for line in k:\n",
    "    print(line)\n",
    "    pass\n",
    "k.close()"
   ]
  },
  {
   "cell_type": "markdown",
   "id": "61a2845c",
   "metadata": {},
   "source": []
  },
  {
   "cell_type": "code",
   "execution_count": null,
   "id": "8cdbd93b",
   "metadata": {},
   "outputs": [],
   "source": []
  },
  {
   "cell_type": "markdown",
   "id": "373245c3",
   "metadata": {},
   "source": []
  },
  {
   "cell_type": "code",
   "execution_count": null,
   "id": "b0827232",
   "metadata": {},
   "outputs": [],
   "source": []
  }
 ],
 "metadata": {
  "kernelspec": {
   "display_name": "Python 3",
   "language": "python",
   "name": "python3"
  },
  "language_info": {
   "codemirror_mode": {
    "name": "ipython",
    "version": 3
   },
   "file_extension": ".py",
   "mimetype": "text/x-python",
   "name": "python",
   "nbconvert_exporter": "python",
   "pygments_lexer": "ipython3",
   "version": "3.13.7"
  }
 },
 "nbformat": 4,
 "nbformat_minor": 5
}
