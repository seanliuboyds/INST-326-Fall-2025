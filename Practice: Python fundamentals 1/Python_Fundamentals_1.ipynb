{
 "cells": [
  {
   "cell_type": "markdown",
   "id": "a5af5713",
   "metadata": {},
   "source": [
    "# Defining functions \n",
    "\n",
    "Functions allow the division of code into specific steps. If there is a repetitive piece of code, a piece of code that is hard to read, or a piece of code that needs to be debugged. Making that code a function will streamline its place in the development process.\n",
    "\n",
    "Functions have a name, a parameter or many, a docstring that lists a function's purpose and instructions to use it, and a body where the specific instructions for the function are written."
   ]
  },
  {
   "cell_type": "code",
   "execution_count": null,
   "id": "43640898",
   "metadata": {},
   "outputs": [
    {
     "name": "stdout",
     "output_type": "stream",
     "text": [
      "you're not a millionare\n",
      "you're a millionare\n"
     ]
    }
   ],
   "source": [
    "def isMillionare(salary):\n",
    "    \"\"\"\n",
    "    Calculates if you're a millionare based on your salary, call it with your salary and compare using a less than operator if salary < 1000000\n",
    "    \"\"\"\n",
    "    print(\"you're\" + (\" not\" if salary < 1000000 else \"\") + \" a millionare\")\n",
    "    \n",
    "isMillionare(1000)\n",
    "\n",
    "isMillionare(10000000)\n",
    "\n"
   ]
  },
  {
   "cell_type": "code",
   "execution_count": 9,
   "id": "a225c53a",
   "metadata": {},
   "outputs": [
    {
     "name": "stdout",
     "output_type": "stream",
     "text": [
      "106.0\n",
      "212.0\n"
     ]
    }
   ],
   "source": [
    "def addSalesTax(balance):\n",
    "    \"\"\"Adds a 6% sales tax on any balance\"\"\"\n",
    "    print(balance * 1.06)\n",
    "\n",
    "addSalesTax(100)\n",
    "\n",
    "addSalesTax(200)"
   ]
  },
  {
   "cell_type": "markdown",
   "id": "a2d2094e",
   "metadata": {},
   "source": [
    "# Docstrings\n",
    "\n",
    "Docstrings are lines of commented out text that explain how a function works and a short tutorial or set of instructions on how a programmer can use it. \n",
    "\n",
    "A docstring includes:\n",
    "- Function Purpose\n",
    "- Argument Purpose and Data Types\n",
    "- The meaning and data type of what it returns\n",
    "- Possible raised Exceptions and Side Effects"
   ]
  },
  {
   "cell_type": "code",
   "execution_count": 8,
   "id": "0a7be3bf",
   "metadata": {},
   "outputs": [
    {
     "name": "stdout",
     "output_type": "stream",
     "text": [
      "400\n"
     ]
    },
    {
     "ename": "ValueError",
     "evalue": "Length impossible",
     "output_type": "error",
     "traceback": [
      "\u001b[31m---------------------------------------------------------------------------\u001b[39m",
      "\u001b[31mValueError\u001b[39m                                Traceback (most recent call last)",
      "\u001b[36mCell\u001b[39m\u001b[36m \u001b[39m\u001b[32mIn[8]\u001b[39m\u001b[32m, line 25\u001b[39m\n\u001b[32m     21\u001b[39m     \u001b[38;5;28;01mreturn\u001b[39;00m base * base\n\u001b[32m     23\u001b[39m \u001b[38;5;28mprint\u001b[39m(squareArea(\u001b[32m20\u001b[39m))\n\u001b[32m---> \u001b[39m\u001b[32m25\u001b[39m \u001b[38;5;28mprint\u001b[39m(\u001b[43msquareArea\u001b[49m\u001b[43m(\u001b[49m\u001b[32;43m0\u001b[39;49m\u001b[43m)\u001b[49m)\n\u001b[32m     27\u001b[39m \u001b[38;5;28mprint\u001b[39m(squareArea(\u001b[33m\"\u001b[39m\u001b[33mhello\u001b[39m\u001b[33m\"\u001b[39m))\n",
      "\u001b[36mCell\u001b[39m\u001b[36m \u001b[39m\u001b[32mIn[8]\u001b[39m\u001b[32m, line 17\u001b[39m, in \u001b[36msquareArea\u001b[39m\u001b[34m(base)\u001b[39m\n\u001b[32m      2\u001b[39m \u001b[38;5;250m\u001b[39m\u001b[33;03m\"\"\"\u001b[39;00m\n\u001b[32m      3\u001b[39m \u001b[33;03mFinds the area of a square based on the length of its base. \u001b[39;00m\n\u001b[32m      4\u001b[39m \n\u001b[32m   (...)\u001b[39m\u001b[32m     13\u001b[39m \u001b[33;03m    ValueError: if value of base less than 1\u001b[39;00m\n\u001b[32m     14\u001b[39m \u001b[33;03m\"\"\"\u001b[39;00m\n\u001b[32m     16\u001b[39m \u001b[38;5;28;01mif\u001b[39;00m base < \u001b[32m1\u001b[39m:\n\u001b[32m---> \u001b[39m\u001b[32m17\u001b[39m     \u001b[38;5;28;01mraise\u001b[39;00m \u001b[38;5;167;01mValueError\u001b[39;00m(\u001b[33m\"\u001b[39m\u001b[33mLength impossible\u001b[39m\u001b[33m\"\u001b[39m)\n\u001b[32m     18\u001b[39m \u001b[38;5;28;01mif\u001b[39;00m \u001b[38;5;129;01mnot\u001b[39;00m \u001b[38;5;28misinstance\u001b[39m(base, \u001b[38;5;28mint\u001b[39m):\n\u001b[32m     19\u001b[39m     \u001b[38;5;28;01mraise\u001b[39;00m \u001b[38;5;167;01mTypeError\u001b[39;00m(\u001b[33m\"\u001b[39m\u001b[33mNot an int\u001b[39m\u001b[33m\"\u001b[39m)\n",
      "\u001b[31mValueError\u001b[39m: Length impossible"
     ]
    }
   ],
   "source": [
    "def squareArea(base):\n",
    "    \"\"\"\n",
    "    Finds the area of a square based on the length of its base. \n",
    "    \n",
    "    Args:\n",
    "        base (int): the length of the square's base\n",
    "        \n",
    "    Returns\n",
    "        int: An int of base * base, the area of the square\n",
    "        \n",
    "    Raises: \n",
    "        TypeError: if value of base is not an integer\n",
    "        ValueError: if value of base less than 1\n",
    "    \"\"\"\n",
    "    \n",
    "    if base < 1:\n",
    "        raise ValueError(\"Length impossible\")\n",
    "    if not isinstance(base, int):\n",
    "        raise TypeError(\"Not an int\")\n",
    "    \n",
    "    return base * base\n",
    "\n",
    "print(squareArea(20))\n",
    "\n",
    "print(squareArea(0))\n",
    "\n",
    "print(squareArea(\"hello\"))"
   ]
  },
  {
   "cell_type": "code",
   "execution_count": 12,
   "id": "b2582611",
   "metadata": {},
   "outputs": [
    {
     "name": "stdout",
     "output_type": "stream",
     "text": [
      "glass is half empty or half full\n",
      "glass is not half empty or full :(\n"
     ]
    },
    {
     "ename": "ValueError",
     "evalue": "Volume cannot be negative",
     "output_type": "error",
     "traceback": [
      "\u001b[31m---------------------------------------------------------------------------\u001b[39m",
      "\u001b[31mValueError\u001b[39m                                Traceback (most recent call last)",
      "\u001b[36mCell\u001b[39m\u001b[36m \u001b[39m\u001b[32mIn[12]\u001b[39m\u001b[32m, line 30\u001b[39m\n\u001b[32m     26\u001b[39m \u001b[38;5;28mprint\u001b[39m(glassHalfEmpty(\u001b[32m1\u001b[39m, \u001b[32m2\u001b[39m))\n\u001b[32m     28\u001b[39m \u001b[38;5;28mprint\u001b[39m(glassHalfEmpty(\u001b[32m50\u001b[39m, \u001b[32m99\u001b[39m))\n\u001b[32m---> \u001b[39m\u001b[32m30\u001b[39m \u001b[38;5;28mprint\u001b[39m(\u001b[43mglassHalfEmpty\u001b[49m\u001b[43m(\u001b[49m\u001b[32;43m1\u001b[39;49m\u001b[43m,\u001b[49m\u001b[43m \u001b[49m\u001b[32;43m0\u001b[39;49m\u001b[43m)\u001b[49m)\n\u001b[32m     32\u001b[39m \u001b[38;5;28mprint\u001b[39m(glassHalfEmpty(\u001b[33m\"\u001b[39m\u001b[33m100\u001b[39m\u001b[33m\"\u001b[39m, \u001b[33m\"\u001b[39m\u001b[33m200\u001b[39m\u001b[33m\"\u001b[39m))\n",
      "\u001b[36mCell\u001b[39m\u001b[36m \u001b[39m\u001b[32mIn[12]\u001b[39m\u001b[32m, line 19\u001b[39m, in \u001b[36mglassHalfEmpty\u001b[39m\u001b[34m(contents, volume)\u001b[39m\n\u001b[32m     17\u001b[39m     \u001b[38;5;28;01mraise\u001b[39;00m \u001b[38;5;167;01mTypeError\u001b[39;00m(\u001b[33m\"\u001b[39m\u001b[33mOne of you\u001b[39m\u001b[33m'\u001b[39m\u001b[33mre variables is not an int or float\u001b[39m\u001b[33m\"\u001b[39m)\n\u001b[32m     18\u001b[39m \u001b[38;5;28;01mif\u001b[39;00m volume <= \u001b[32m0\u001b[39m:\n\u001b[32m---> \u001b[39m\u001b[32m19\u001b[39m     \u001b[38;5;28;01mraise\u001b[39;00m \u001b[38;5;167;01mValueError\u001b[39;00m(\u001b[33m\"\u001b[39m\u001b[33mVolume cannot be negative\u001b[39m\u001b[33m\"\u001b[39m)\n\u001b[32m     21\u001b[39m \u001b[38;5;28;01mif\u001b[39;00m contents == (volume * \u001b[32m0.5\u001b[39m):\n\u001b[32m     22\u001b[39m     \u001b[38;5;28;01mreturn\u001b[39;00m \u001b[33m\"\u001b[39m\u001b[33mglass is half empty or half full\u001b[39m\u001b[33m\"\u001b[39m\n",
      "\u001b[31mValueError\u001b[39m: Volume cannot be negative"
     ]
    }
   ],
   "source": [
    "def glassHalfEmpty(contents, volume):\n",
    "    \"\"\"Calculates if a glass is half empty or not\n",
    "    \n",
    "    Args:\n",
    "        contents: int, the current contents of a glass\n",
    "        volume: int, the full volume of contents a glass can have\n",
    "        \n",
    "    Returns:\n",
    "        String: a String of whether the glass is half empty or half filled or if it is neither.\n",
    "        \n",
    "    Raises:\n",
    "        ValueError: if volume is 0 or negative or if contents is negative\n",
    "        TypeError: if volume or contents is not int    \n",
    "    \"\"\"\n",
    "    \n",
    "    if not isinstance(contents, int) or not isinstance(volume, int):\n",
    "        raise TypeError(\"One of you're variables is not an int or float\")\n",
    "    if volume <= 0:\n",
    "        raise ValueError(\"Volume cannot be negative\")\n",
    "    \n",
    "    if contents == (volume * 0.5):\n",
    "        return \"glass is half empty or half full\"\n",
    "    else:\n",
    "        return \"glass is not half empty or full :(\"\n",
    "\n",
    "print(glassHalfEmpty(1, 2))\n",
    "\n",
    "print(glassHalfEmpty(50, 99))\n",
    "\n",
    "print(glassHalfEmpty(1, 0))\n",
    "\n",
    "print(glassHalfEmpty(\"100\", \"200\"))"
   ]
  },
  {
   "cell_type": "markdown",
   "id": "b4bff047",
   "metadata": {},
   "source": [
    "# Optional and Requoired Parameters\n",
    "\n",
    "Required parameters are names of variables to be declared by the user, they must be called in a function for the function to work as intended.\n",
    "\n",
    "Optional parameters are variables that have a default value. If a user doesn't declare new values for them in the function call, the default values take over, otherwise the function calls values are used instead.\n",
    "ex. (optional_parameter=\"value\")"
   ]
  },
  {
   "cell_type": "code",
   "execution_count": null,
   "id": "9d893980",
   "metadata": {},
   "outputs": [
    {
     "ename": "TypeError",
     "evalue": "required() missing 1 required positional argument: 'test'",
     "output_type": "error",
     "traceback": [
      "\u001b[31m---------------------------------------------------------------------------\u001b[39m",
      "\u001b[31mTypeError\u001b[39m                                 Traceback (most recent call last)",
      "\u001b[36mCell\u001b[39m\u001b[36m \u001b[39m\u001b[32mIn[14]\u001b[39m\u001b[32m, line 15\u001b[39m\n\u001b[32m     11\u001b[39m optional()\n\u001b[32m     13\u001b[39m required(\u001b[33m\"\u001b[39m\u001b[33mhey\u001b[39m\u001b[33m\"\u001b[39m)\n\u001b[32m---> \u001b[39m\u001b[32m15\u001b[39m \u001b[43mrequired\u001b[49m\u001b[43m(\u001b[49m\u001b[43m)\u001b[49m\n",
      "\u001b[31mTypeError\u001b[39m: required() missing 1 required positional argument: 'test'"
     ]
    }
   ],
   "source": [
    "def optional(test=\"hello\"):\n",
    "    \"\"\"a test for optional arguments\"\"\"\n",
    "    return \"hi or you can say \" + test\n",
    "\n",
    "def required(test):\n",
    "    \"\"\"a test for required arguments\"\"\"\n",
    "    return \"hi or you can say \" + test\n",
    "\n",
    "print(optional(\"hey\"))\n",
    "\n",
    "print(optional())\n",
    "\n",
    "print(required(\"hey\"))\n",
    "\n",
    "print(required())"
   ]
  },
  {
   "cell_type": "markdown",
   "id": "6c9e9588",
   "metadata": {},
   "source": [
    "# If statements\n",
    "\n",
    "If statements are used when a decision has to be made in the code. Whether the decision is decided by number, truthy or falsey, characters, strings, or even lists, the if statement returns a true or false based on the expression it handles."
   ]
  },
  {
   "cell_type": "code",
   "execution_count": null,
   "id": "0f5cfb47",
   "metadata": {},
   "outputs": [
    {
     "name": "stdout",
     "output_type": "stream",
     "text": [
      "True\n",
      "True\n",
      "True\n",
      "True\n"
     ]
    }
   ],
   "source": [
    "if 1 == 1:\n",
    "    print(True)\n",
    "# Can be an integer comparison of equaling\n",
    "if 1 == True:\n",
    "    print(True)\n",
    "# Can be a comparison of equaling between int and boolean\n",
    "if 0 != \"Yes\":\n",
    "    print(True)\n",
    "# Can be a comparison of not equaling between a int and a string\n",
    "if \"i\" in [1, 2, 3, \"i\", \"4\"]:\n",
    "    print(True)\n",
    "# Can check if a value is in another value"
   ]
  }
 ],
 "metadata": {
  "kernelspec": {
   "display_name": "Python 3",
   "language": "python",
   "name": "python3"
  },
  "language_info": {
   "codemirror_mode": {
    "name": "ipython",
    "version": 3
   },
   "file_extension": ".py",
   "mimetype": "text/x-python",
   "name": "python",
   "nbconvert_exporter": "python",
   "pygments_lexer": "ipython3",
   "version": "3.13.7"
  }
 },
 "nbformat": 4,
 "nbformat_minor": 5
}
